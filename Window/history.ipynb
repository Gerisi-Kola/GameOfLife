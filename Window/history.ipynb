{
 "cells": [
  {
   "cell_type": "code",
   "execution_count": null,
   "metadata": {},
   "outputs": [],
   "source": [
    "import numpy as np"
   ]
  },
  {
   "cell_type": "code",
   "execution_count": 31,
   "metadata": {},
   "outputs": [
    {
     "name": "stdout",
     "output_type": "stream",
     "text": [
      "99\n",
      "[1, 2, 3, 4, 94, 95, 96, 97, 98, 0]\n"
     ]
    }
   ],
   "source": [
    "print(l[index-1])\n",
    "c = 0\n",
    "\n",
    "for _ in range (5):\n",
    "    l[index-1] = c\n",
    "    \n",
    "    index += 1\n",
    "    c += 1\n",
    "    \n",
    "    if index == history_len:\n",
    "        index = 0\n",
    "\n",
    "print(l)"
   ]
  },
  {
   "cell_type": "code",
   "execution_count": 4,
   "metadata": {},
   "outputs": [
    {
     "name": "stdout",
     "output_type": "stream",
     "text": [
      "[90, 91, 92, 93, 94, 95, 96, 97, 98, 89]\n"
     ]
    }
   ],
   "source": [
    "history_len = 10\n",
    "index = 0\n",
    "c = 0\n",
    "\n",
    "l = [0,0,0,0,0,0,0,0,0,0]\n",
    "\n",
    "for _ in range (99):\n",
    "    if index == history_len:\n",
    "        index = 0\n",
    "    \n",
    "    l[index] = c\n",
    "    \n",
    "    index += 1\n",
    "    c += 1\n",
    "\n",
    "print(l)"
   ]
  },
  {
   "cell_type": "code",
   "execution_count": 5,
   "metadata": {},
   "outputs": [
    {
     "name": "stdout",
     "output_type": "stream",
     "text": [
      "8\n",
      "[90, 91, 92, 93, 94, 95, 96, 97, 9999, 89]\n"
     ]
    }
   ],
   "source": [
    "index -= 1\n",
    "\n",
    "l[index] = 9999\n",
    "print(index)\n",
    "print(l)"
   ]
  },
  {
   "cell_type": "code",
   "execution_count": 7,
   "metadata": {},
   "outputs": [
    {
     "name": "stdout",
     "output_type": "stream",
     "text": [
      "[0, 1, 2, 3, 94, 95, 96, 97, 9999, 1]\n"
     ]
    }
   ],
   "source": [
    "c = 0\n",
    "for _ in range (4):\n",
    "    \n",
    "    if index == history_len:\n",
    "        index = 0\n",
    "    \n",
    "    l[index] = c\n",
    "    \n",
    "    index += 1\n",
    "    c += 1\n",
    "\n",
    "print(l)"
   ]
  },
  {
   "cell_type": "code",
   "execution_count": null,
   "metadata": {},
   "outputs": [],
   "source": []
  }
 ],
 "metadata": {
  "kernelspec": {
   "display_name": "Python 3",
   "language": "python",
   "name": "python3"
  },
  "language_info": {
   "codemirror_mode": {
    "name": "ipython",
    "version": 3
   },
   "file_extension": ".py",
   "mimetype": "text/x-python",
   "name": "python",
   "nbconvert_exporter": "python",
   "pygments_lexer": "ipython3",
   "version": "3.12.4"
  }
 },
 "nbformat": 4,
 "nbformat_minor": 2
}
